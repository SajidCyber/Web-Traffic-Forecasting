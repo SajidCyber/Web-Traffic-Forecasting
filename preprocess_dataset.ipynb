{
 "cells": [
  {
   "cell_type": "code",
   "execution_count": 3,
   "id": "36659c8d",
   "metadata": {},
   "outputs": [],
   "source": [
    "# Preprocess Dataset Notebook\n"
   ]
  },
  {
   "cell_type": "code",
   "execution_count": 4,
   "id": "e59b0af0",
   "metadata": {},
   "outputs": [
    {
     "name": "stdout",
     "output_type": "stream",
     "text": [
      "--- Null Values Before Cleaning ---\n",
      "ds                      0\n",
      "y                       0\n",
      "unique_visitors         0\n",
      "sessions                0\n",
      "bounce_rate             0\n",
      "avg_session_duration    0\n",
      "pages_per_session       0\n",
      "ad_spend                0\n",
      "seo_score               0\n",
      "social_trend_index      0\n",
      "campaign_flag           0\n",
      "holiday_flag            0\n",
      "weekday                 0\n",
      "month                   0\n",
      "dtype: int64\n",
      "\n",
      "--- Null Values After Cleaning ---\n",
      "ds                      0\n",
      "y                       0\n",
      "unique_visitors         0\n",
      "sessions                0\n",
      "bounce_rate             0\n",
      "avg_session_duration    0\n",
      "pages_per_session       0\n",
      "ad_spend                0\n",
      "seo_score               0\n",
      "social_trend_index      0\n",
      "campaign_flag           0\n",
      "holiday_flag            0\n",
      "weekday                 0\n",
      "month                   0\n",
      "dtype: int64\n",
      "\n",
      "Cleaned dataset saved to preprocessed_data.csv\n"
     ]
    }
   ],
   "source": [
    "import pandas as pd\n",
    "\n",
    "file_path = 'web_traffic.csv'\n",
    "df = pd.read_csv(file_path)\n",
    "\n",
    "print('--- Null Values Before Cleaning ---')\n",
    "print(df.isnull().sum())\n",
    "\n",
    "# Fill numeric nulls with mean, categorical with mode\n",
    "for col in df.columns:\n",
    "    if df[col].dtype in ['float64', 'int64']:\n",
    "        df[col] = df[col].fillna(df[col].mean())\n",
    "    else:\n",
    "        df[col] = df[col].fillna(df[col].mode()[0])\n",
    "\n",
    "print('\\n--- Null Values After Cleaning ---')\n",
    "print(df.isnull().sum())\n",
    "\n",
    "# Save cleaned dataset\n",
    "output_file = 'preprocessed_data.csv'\n",
    "df.to_csv(output_file, index=False)\n",
    "print(f'\\nCleaned dataset saved to {output_file}')"
   ]
  }
 ],
 "metadata": {
  "kernelspec": {
   "display_name": "venv",
   "language": "python",
   "name": "python3"
  },
  "language_info": {
   "codemirror_mode": {
    "name": "ipython",
    "version": 3
   },
   "file_extension": ".py",
   "mimetype": "text/x-python",
   "name": "python",
   "nbconvert_exporter": "python",
   "pygments_lexer": "ipython3",
   "version": "3.13.2"
  }
 },
 "nbformat": 4,
 "nbformat_minor": 5
}
